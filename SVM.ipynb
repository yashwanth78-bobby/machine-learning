{
  "nbformat": 4,
  "nbformat_minor": 0,
  "metadata": {
    "colab": {
      "provenance": []
    },
    "kernelspec": {
      "name": "python3",
      "display_name": "Python 3"
    },
    "language_info": {
      "name": "python"
    }
  },
  "cells": [
    {
      "cell_type": "code",
      "source": [
        "import numpy as np\n",
        "from sklearn import datasets\n",
        "from sklearn.model_selection import train_test_split\n",
        "from sklearn.preprocessing import StandardScaler\n",
        "from sklearn.svm import SVC\n",
        "from sklearn.metrics import classification_report, confusion_matrix\n",
        "\n",
        "# Load the Wine dataset\n",
        "wine = datasets.load_wine()\n",
        "X = wine.data\n",
        "y = wine.target\n",
        "\n",
        "# Split the dataset\n",
        "X_train, X_test, y_train, y_test = train_test_split(X, y, test_size=0.3, random_state=42)\n",
        "\n",
        "# Feature scaling\n",
        "scaler = StandardScaler()\n",
        "X_train = scaler.fit_transform(X_train)\n",
        "X_test = scaler.transform(X_test)\n",
        "\n",
        "# Train and evaluate with linear kernel\n",
        "svm_linear = SVC(kernel='linear', C=1.0, random_state=42)\n",
        "svm_linear.fit(X_train, y_train)\n",
        "y_pred_linear = svm_linear.predict(X_test)\n",
        "accuracy_linear = svm_linear.score(X_test, y_test) * 100\n",
        "print(\"Linear Kernel SVM Accuracy: {:.2f}%\".format(accuracy_linear))\n",
        "print(classification_report(y_test, y_pred_linear))\n",
        "print(confusion_matrix(y_test, y_pred_linear))\n",
        "\n",
        "# Train and evaluate with RBF kernel\n",
        "svm_rbf = SVC(kernel='rbf', C=1.0, gamma='scale', random_state=42)\n",
        "svm_rbf.fit(X_train, y_train)\n",
        "y_pred_rbf = svm_rbf.predict(X_test)\n",
        "accuracy_rbf = svm_rbf.score(X_test, y_test) * 100\n",
        "print(\"RBF Kernel SVM Accuracy: {:.2f}%\".format(accuracy_rbf))\n",
        "print(classification_report(y_test, y_pred_rbf))\n",
        "print(confusion_matrix(y_test, y_pred_rbf))\n",
        "\n",
        "# Train and evaluate with polynomial kernel\n",
        "svm_poly = SVC(kernel='poly', degree=3, C=1.0, gamma='scale', random_state=42)\n",
        "svm_poly.fit(X_train, y_train)\n",
        "y_pred_poly = svm_poly.predict(X_test)\n",
        "accuracy_poly = svm_poly.score(X_test, y_test) * 100\n",
        "print(\"Polynomial Kernel SVM Accuracy: {:.2f}%\".format(accuracy_poly))\n",
        "print(classification_report(y_test, y_pred_poly))\n",
        "print(confusion_matrix(y_test, y_pred_poly))\n"
      ],
      "metadata": {
        "colab": {
          "base_uri": "https://localhost:8080/"
        },
        "id": "x4rdgtaJxxyp",
        "outputId": "7a3f37e7-457a-45f2-88d7-e476efa5f07d"
      },
      "execution_count": 12,
      "outputs": [
        {
          "output_type": "stream",
          "name": "stdout",
          "text": [
            "Linear Kernel SVM Accuracy: 98.15%\n",
            "              precision    recall  f1-score   support\n",
            "\n",
            "           0       1.00      1.00      1.00        19\n",
            "           1       1.00      0.95      0.98        21\n",
            "           2       0.93      1.00      0.97        14\n",
            "\n",
            "    accuracy                           0.98        54\n",
            "   macro avg       0.98      0.98      0.98        54\n",
            "weighted avg       0.98      0.98      0.98        54\n",
            "\n",
            "[[19  0  0]\n",
            " [ 0 20  1]\n",
            " [ 0  0 14]]\n",
            "RBF Kernel SVM Accuracy: 98.15%\n",
            "              precision    recall  f1-score   support\n",
            "\n",
            "           0       1.00      1.00      1.00        19\n",
            "           1       0.95      1.00      0.98        21\n",
            "           2       1.00      0.93      0.96        14\n",
            "\n",
            "    accuracy                           0.98        54\n",
            "   macro avg       0.98      0.98      0.98        54\n",
            "weighted avg       0.98      0.98      0.98        54\n",
            "\n",
            "[[19  0  0]\n",
            " [ 0 21  0]\n",
            " [ 0  1 13]]\n",
            "Polynomial Kernel SVM Accuracy: 96.30%\n",
            "              precision    recall  f1-score   support\n",
            "\n",
            "           0       1.00      0.89      0.94        19\n",
            "           1       0.91      1.00      0.95        21\n",
            "           2       1.00      1.00      1.00        14\n",
            "\n",
            "    accuracy                           0.96        54\n",
            "   macro avg       0.97      0.96      0.97        54\n",
            "weighted avg       0.97      0.96      0.96        54\n",
            "\n",
            "[[17  2  0]\n",
            " [ 0 21  0]\n",
            " [ 0  0 14]]\n"
          ]
        }
      ]
    }
  ]
}