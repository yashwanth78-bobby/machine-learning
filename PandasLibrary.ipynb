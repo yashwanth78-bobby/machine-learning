{
  "nbformat": 4,
  "nbformat_minor": 0,
  "metadata": {
    "colab": {
      "provenance": []
    },
    "kernelspec": {
      "name": "python3",
      "display_name": "Python 3"
    },
    "language_info": {
      "name": "python"
    }
  },
  "cells": [
    {
      "cell_type": "markdown",
      "source": [
        "##Pandas##"
      ],
      "metadata": {
        "id": "wcd8WObCwlda"
      }
    },
    {
      "cell_type": "code",
      "execution_count": 1,
      "metadata": {
        "colab": {
          "base_uri": "https://localhost:8080/"
        },
        "id": "4vxr8Z52whyp",
        "outputId": "bf1494d6-4969-4f79-f692-f2a92ef39648"
      },
      "outputs": [
        {
          "output_type": "stream",
          "name": "stdout",
          "text": [
            "0    1\n",
            "1    3\n",
            "2    5\n",
            "3    6\n",
            "4    8\n",
            "dtype: int64\n"
          ]
        }
      ],
      "source": [
        " #Pandas library is a powerful tool for data manipulation and analysis in Python\n",
        " #A one-dimensional labeled array capable of holding any data type-Series\n",
        " import pandas as pd\n",
        "\n",
        "# Creating a Series\n",
        "s = pd.Series([1, 3, 5, 6, 8])\n",
        "print(s)\n"
      ]
    },
    {
      "cell_type": "code",
      "source": [
        "#DataFrame- two-dimensional labeled data structure with columns of potentially different types.\n",
        "# Creating a DataFrame\n",
        "data = {'A': [1, 2, 3, 4], 'B': [5, 6, 7, 8]}\n",
        "df = pd.DataFrame(data)\n",
        "print(df)\n"
      ],
      "metadata": {
        "colab": {
          "base_uri": "https://localhost:8080/"
        },
        "id": "R_Zm5tAqxASh",
        "outputId": "c727872e-2276-4790-ff44-476fec22a1e5"
      },
      "execution_count": 2,
      "outputs": [
        {
          "output_type": "stream",
          "name": "stdout",
          "text": [
            "   A  B\n",
            "0  1  5\n",
            "1  2  6\n",
            "2  3  7\n",
            "3  4  8\n"
          ]
        }
      ]
    },
    {
      "cell_type": "markdown",
      "source": [
        "##Creation##"
      ],
      "metadata": {
        "id": "dZGKbFwjxb5Z"
      }
    },
    {
      "cell_type": "code",
      "source": [
        "\n",
        "# pd.DataFrame(data): Create a DataFrame.\n",
        "# pd.read_csv(filepath): Read a CSV file into a DataFrame.\n",
        "# pd.read_excel(filepath): Read an Excel file into a DataFrame.\n",
        "# pd.read_sql(query, connection): Read a SQL query or database table into a DataFrame.\n",
        "# pd.read_json(json_string): Read a JSON string into a DataFrame."
      ],
      "metadata": {
        "id": "qkLU_BSDxIcg"
      },
      "execution_count": null,
      "outputs": []
    },
    {
      "cell_type": "markdown",
      "source": [
        "##DataFrame Inspection Methods##"
      ],
      "metadata": {
        "id": "ziktgJwexu5E"
      }
    },
    {
      "cell_type": "code",
      "source": [
        "import pandas as pd\n",
        "\n",
        "# Creating a DataFrame\n",
        "data = {\n",
        "    'Name': ['Alice', 'Bob', 'Charlie', 'David', 'Edward'],\n",
        "    'Age': [24, 27, 22, 32, 29],\n",
        "    'City': ['New York', 'Los Angeles', 'Chicago', 'Houston', 'Phoenix'],\n",
        "    'Salary': [70000, 80000, 45000, 60000, 75000]\n",
        "}\n",
        "df = pd.DataFrame(data)\n",
        "\n",
        "# Return the first 3 rows\n",
        "print(\"Head (first 3 rows):\")\n",
        "print(df.head(3))\n",
        "\n",
        "# Return the last 2 rows\n",
        "print(\"\\nTail (last 2 rows):\")\n",
        "print(df.tail(2))\n",
        "\n",
        "# Print concise summary\n",
        "print(\"\\nInfo:\")\n",
        "print(df.info())\n",
        "\n",
        "# Generate descriptive statistics\n",
        "print(\"\\nDescribe:\")\n",
        "print(df.describe())\n",
        "\n",
        "# Return the data types of the DataFrame columns\n",
        "print(\"\\nData Types:\")\n",
        "print(df.dtypes)\n",
        "\n",
        "# Return the dimensions of the DataFrame\n",
        "print(\"\\nShape:\")\n",
        "print(df.shape)\n"
      ],
      "metadata": {
        "colab": {
          "base_uri": "https://localhost:8080/"
        },
        "id": "YkaYTB13xffx",
        "outputId": "e728fdb1-768c-4970-e092-5eafa460e7d2"
      },
      "execution_count": 3,
      "outputs": [
        {
          "output_type": "stream",
          "name": "stdout",
          "text": [
            "Head (first 3 rows):\n",
            "      Name  Age         City  Salary\n",
            "0    Alice   24     New York   70000\n",
            "1      Bob   27  Los Angeles   80000\n",
            "2  Charlie   22      Chicago   45000\n",
            "\n",
            "Tail (last 2 rows):\n",
            "     Name  Age     City  Salary\n",
            "3   David   32  Houston   60000\n",
            "4  Edward   29  Phoenix   75000\n",
            "\n",
            "Info:\n",
            "<class 'pandas.core.frame.DataFrame'>\n",
            "RangeIndex: 5 entries, 0 to 4\n",
            "Data columns (total 4 columns):\n",
            " #   Column  Non-Null Count  Dtype \n",
            "---  ------  --------------  ----- \n",
            " 0   Name    5 non-null      object\n",
            " 1   Age     5 non-null      int64 \n",
            " 2   City    5 non-null      object\n",
            " 3   Salary  5 non-null      int64 \n",
            "dtypes: int64(2), object(2)\n",
            "memory usage: 288.0+ bytes\n",
            "None\n",
            "\n",
            "Describe:\n",
            "             Age        Salary\n",
            "count   5.000000      5.000000\n",
            "mean   26.800000  66000.000000\n",
            "std     3.962323  13874.436926\n",
            "min    22.000000  45000.000000\n",
            "25%    24.000000  60000.000000\n",
            "50%    27.000000  70000.000000\n",
            "75%    29.000000  75000.000000\n",
            "max    32.000000  80000.000000\n",
            "\n",
            "Data Types:\n",
            "Name      object\n",
            "Age        int64\n",
            "City      object\n",
            "Salary     int64\n",
            "dtype: object\n",
            "\n",
            "Shape:\n",
            "(5, 4)\n"
          ]
        }
      ]
    },
    {
      "cell_type": "markdown",
      "source": [
        "##Selection Methods##"
      ],
      "metadata": {
        "id": "11HoQBMSybDA"
      }
    },
    {
      "cell_type": "code",
      "source": [
        "# Select a column\n",
        "print(\"\\nSelect 'Name' column:\")\n",
        "print(df['Name'])\n",
        "\n",
        "# Select multiple columns\n",
        "print(\"\\nSelect 'Name' and 'City' columns:\")\n",
        "print(df[['Name', 'City']])\n",
        "\n",
        "# Select by index\n",
        "print(\"\\nSelect row at index 2 using iloc:\")\n",
        "print(df.iloc[2])\n",
        "\n",
        "# Select by label\n",
        "print(\"\\nSelect row with label 2 using loc:\")\n",
        "print(df.loc[2])\n",
        "\n",
        "# Filter rows based on column values\n",
        "print(\"\\nFilter rows where 'Age' > 25:\")\n",
        "print(df[df['Age'] > 25])"
      ],
      "metadata": {
        "colab": {
          "base_uri": "https://localhost:8080/"
        },
        "id": "sbWHvEPDyUnx",
        "outputId": "f2058414-dd3c-4132-da00-258a96cd61a4"
      },
      "execution_count": 4,
      "outputs": [
        {
          "output_type": "stream",
          "name": "stdout",
          "text": [
            "\n",
            "Select 'Name' column:\n",
            "0      Alice\n",
            "1        Bob\n",
            "2    Charlie\n",
            "3      David\n",
            "4     Edward\n",
            "Name: Name, dtype: object\n",
            "\n",
            "Select 'Name' and 'City' columns:\n",
            "      Name         City\n",
            "0    Alice     New York\n",
            "1      Bob  Los Angeles\n",
            "2  Charlie      Chicago\n",
            "3    David      Houston\n",
            "4   Edward      Phoenix\n",
            "\n",
            "Select row at index 2 using iloc:\n",
            "Name      Charlie\n",
            "Age            22\n",
            "City      Chicago\n",
            "Salary      45000\n",
            "Name: 2, dtype: object\n",
            "\n",
            "Select row with label 2 using loc:\n",
            "Name      Charlie\n",
            "Age            22\n",
            "City      Chicago\n",
            "Salary      45000\n",
            "Name: 2, dtype: object\n",
            "\n",
            "Filter rows where 'Age' > 25:\n",
            "     Name  Age         City  Salary\n",
            "1     Bob   27  Los Angeles   80000\n",
            "3   David   32      Houston   60000\n",
            "4  Edward   29      Phoenix   75000\n"
          ]
        }
      ]
    },
    {
      "cell_type": "markdown",
      "source": [
        "##Aggregation##"
      ],
      "metadata": {
        "id": "QL2-nshazOnQ"
      }
    },
    {
      "cell_type": "code",
      "source": [
        "import pandas as pd\n",
        "\n",
        "# Creating a DataFrame\n",
        "data = {\n",
        "    'Name': ['Alice', 'Bob', 'Charlie', 'David', 'Edward'],\n",
        "    'Age': [24, 27, 22, 32, 29],\n",
        "    'City': ['New York', 'Los Angeles', 'Chicago', 'Houston', 'Phoenix'],\n",
        "    'Salary': [70000, 80000, 45000, 60000, 75000]\n",
        "}\n",
        "df = pd.DataFrame(data)\n",
        "\n",
        "# Print the DataFrame\n",
        "print(\"DataFrame:\")\n",
        "print(df)\n",
        "\n",
        "# Return the mean of the numerical values\n",
        "print(\"\\nMean of numerical columns:\") # Changed the description to be more accurate\n",
        "print(df.select_dtypes(include='number').mean()) # Select only numerical columns for mean calculation\n",
        "\n",
        "# Return the sum of the values\n",
        "print(\"\\nSum:\")\n",
        "print(df.sum())\n",
        "\n",
        "# Return the number of non-null observations\n",
        "print(\"\\nCount:\")\n",
        "print(df.count())\n",
        "\n",
        "# Return the minimum of the values\n",
        "print(\"\\nMin:\")\n",
        "print(df.min())\n",
        "\n",
        "# # Return the maximum of the values\n",
        "# print(\"\\nMax:\")\n",
        "# print(df.max())\n",
        "\n",
        "# # Return the median of the values\n",
        "# print(\"\\nMedian:\")\n",
        "# print(df.median())\n",
        "\n",
        "# # Return the standard deviation of the values\n",
        "# print(\"\\nStandard Deviation:\")\n",
        "# print(df.std())\n",
        "\n",
        "# # Adding a new column 'Department'\n",
        "# df['Department'] = ['HR', 'Finance', 'IT', 'HR', 'Finance']\n",
        "\n",
        "# # Group by 'Department' and calculate mean for each group\n",
        "# print(\"\\nGroup by 'Department' and calculate mean:\")\n",
        "# grouped = df.groupby('Department').mean()\n",
        "# print(grouped)\n",
        "\n",
        "# # Creating a pivot table with 'Department' as index and 'City' as columns, and 'Salary' as values\n",
        "# print(\"\\nPivot Table (Department as index and City as columns):\")\n",
        "# pivot_table = df.pivot_table(values='Salary', index='Department', columns='City', aggfunc='mean')\n",
        "# print(pivot_table)"
      ],
      "metadata": {
        "colab": {
          "base_uri": "https://localhost:8080/"
        },
        "id": "ATvKiuAqzBz5",
        "outputId": "1809ae6b-f22a-41cb-82b9-b3721c468599"
      },
      "execution_count": 7,
      "outputs": [
        {
          "output_type": "stream",
          "name": "stdout",
          "text": [
            "DataFrame:\n",
            "      Name  Age         City  Salary\n",
            "0    Alice   24     New York   70000\n",
            "1      Bob   27  Los Angeles   80000\n",
            "2  Charlie   22      Chicago   45000\n",
            "3    David   32      Houston   60000\n",
            "4   Edward   29      Phoenix   75000\n",
            "\n",
            "Mean of numerical columns:\n",
            "Age          26.8\n",
            "Salary    66000.0\n",
            "dtype: float64\n",
            "\n",
            "Sum:\n",
            "Name                    AliceBobCharlieDavidEdward\n",
            "Age                                            134\n",
            "City      New YorkLos AngelesChicagoHoustonPhoenix\n",
            "Salary                                      330000\n",
            "dtype: object\n",
            "\n",
            "Count:\n",
            "Name      5\n",
            "Age       5\n",
            "City      5\n",
            "Salary    5\n",
            "dtype: int64\n",
            "\n",
            "Min:\n",
            "Name        Alice\n",
            "Age            22\n",
            "City      Chicago\n",
            "Salary      45000\n",
            "dtype: object\n"
          ]
        }
      ]
    },
    {
      "cell_type": "markdown",
      "source": [
        "##Transformation##"
      ],
      "metadata": {
        "id": "Wu2hhyae0DDK"
      }
    },
    {
      "cell_type": "code",
      "source": [
        "# Sort by 'Age'\n",
        "print(\"\\nSorted by 'Age':\")\n",
        "sorted_by_age = df.sort_values(by='Age')\n",
        "print(sorted_by_age)\n",
        "\n",
        "# Sort by index\n",
        "print(\"\\nSorted by index:\")\n",
        "sorted_by_index = df.sort_index(ascending=False)\n",
        "print(sorted_by_index)\n",
        "\n",
        "# Rename 'Salary' to 'Income'\n",
        "print(\"\\nRename 'Salary' to 'Income':\")\n",
        "renamed_df = df.rename(columns={'Salary': 'Income'})\n",
        "print(renamed_df)\n",
        "\n",
        "# Apply a function to increment the 'Age' by 1\n",
        "print(\"\\nIncrement 'Age' by 1:\")\n",
        "increment_age = df['Age'].apply(lambda x: x + 1)\n",
        "print(increment_age)\n",
        "\n",
        "# Apply a function to convert all string data to uppercase\n",
        "print(\"\\nConvert string data to uppercase:\")\n",
        "uppercased_df = df[['Name', 'City']].applymap(lambda x: x.upper())\n",
        "print(uppercased_df)\n",
        "\n",
        "# Drop the 'City' column\n",
        "print(\"\\nDrop 'City' column:\")\n",
        "dropped_column_df = df.drop(columns=['City'])\n",
        "print(dropped_column_df)\n",
        "\n",
        "# Creating a DataFrame with missing values\n",
        "data_with_nan = {\n",
        "    'Name': ['Alice', 'Bob', 'Charlie', 'David', None],\n",
        "    'Age': [24, None, 22, 32, 29],\n",
        "    'City': ['New York', None, 'Chicago', 'Houston', 'Phoenix'],\n",
        "    'Salary': [70000, 80000, None, 60000, 75000]\n",
        "}\n",
        "df_with_nan = pd.DataFrame(data_with_nan)\n",
        "\n",
        "# Drop rows with missing values\n",
        "print(\"\\nDrop rows with missing values:\")\n",
        "dropped_na_df = df_with_nan.dropna()\n",
        "print(dropped_na_df)\n",
        "\n",
        "# Fill missing values with a specified value\n",
        "print(\"\\nFill missing values with specified value:\")\n",
        "filled_na_df = df_with_nan.fillna({'Age': df['Age'].mean(), 'Salary': df['Salary'].mean()})\n",
        "print(filled_na_df)"
      ],
      "metadata": {
        "colab": {
          "base_uri": "https://localhost:8080/"
        },
        "id": "YhOmQ8jzzzPx",
        "outputId": "e27aaedb-58f6-45ae-81ab-1d7489a66b39"
      },
      "execution_count": 8,
      "outputs": [
        {
          "output_type": "stream",
          "name": "stdout",
          "text": [
            "\n",
            "Sorted by 'Age':\n",
            "      Name  Age         City  Salary\n",
            "2  Charlie   22      Chicago   45000\n",
            "0    Alice   24     New York   70000\n",
            "1      Bob   27  Los Angeles   80000\n",
            "4   Edward   29      Phoenix   75000\n",
            "3    David   32      Houston   60000\n",
            "\n",
            "Sorted by index:\n",
            "      Name  Age         City  Salary\n",
            "4   Edward   29      Phoenix   75000\n",
            "3    David   32      Houston   60000\n",
            "2  Charlie   22      Chicago   45000\n",
            "1      Bob   27  Los Angeles   80000\n",
            "0    Alice   24     New York   70000\n",
            "\n",
            "Rename 'Salary' to 'Income':\n",
            "      Name  Age         City  Income\n",
            "0    Alice   24     New York   70000\n",
            "1      Bob   27  Los Angeles   80000\n",
            "2  Charlie   22      Chicago   45000\n",
            "3    David   32      Houston   60000\n",
            "4   Edward   29      Phoenix   75000\n",
            "\n",
            "Increment 'Age' by 1:\n",
            "0    25\n",
            "1    28\n",
            "2    23\n",
            "3    33\n",
            "4    30\n",
            "Name: Age, dtype: int64\n",
            "\n",
            "Convert string data to uppercase:\n",
            "      Name         City\n",
            "0    ALICE     NEW YORK\n",
            "1      BOB  LOS ANGELES\n",
            "2  CHARLIE      CHICAGO\n",
            "3    DAVID      HOUSTON\n",
            "4   EDWARD      PHOENIX\n",
            "\n",
            "Drop 'City' column:\n",
            "      Name  Age  Salary\n",
            "0    Alice   24   70000\n",
            "1      Bob   27   80000\n",
            "2  Charlie   22   45000\n",
            "3    David   32   60000\n",
            "4   Edward   29   75000\n",
            "\n",
            "Drop rows with missing values:\n",
            "    Name   Age      City   Salary\n",
            "0  Alice  24.0  New York  70000.0\n",
            "3  David  32.0   Houston  60000.0\n",
            "\n",
            "Fill missing values with specified value:\n",
            "      Name   Age      City   Salary\n",
            "0    Alice  24.0  New York  70000.0\n",
            "1      Bob  26.8      None  80000.0\n",
            "2  Charlie  22.0   Chicago  66000.0\n",
            "3    David  32.0   Houston  60000.0\n",
            "4     None  29.0   Phoenix  75000.0\n"
          ]
        }
      ]
    },
    {
      "cell_type": "markdown",
      "source": [
        "##Merging and Joining##"
      ],
      "metadata": {
        "id": "VjdvKi-p0k0w"
      }
    },
    {
      "cell_type": "code",
      "source": [
        "import pandas as pd\n",
        "\n",
        "# Creating the first DataFrame\n",
        "data1 = {\n",
        "    'ID': [1, 2, 3, 4],\n",
        "    'Name': ['Alice', 'Bob', 'Charlie', 'David'],\n",
        "    'Age': [24, 27, 22, 32]\n",
        "}\n",
        "df1 = pd.DataFrame(data1)\n",
        "\n",
        "# Creating the second DataFrame\n",
        "data2 = {\n",
        "    'ID': [3, 4, 5, 6],\n",
        "    'City': ['Chicago', 'Houston', 'Phoenix', 'Los Angeles'],\n",
        "    'Salary': [45000, 60000, 75000, 80000]\n",
        "}\n",
        "df2 = pd.DataFrame(data2)\n",
        "\n",
        "# Creating the third DataFrame for join example\n",
        "data3 = {\n",
        "    'ID': [1, 2, 3, 4],\n",
        "    'Department': ['HR', 'Finance', 'IT', 'HR']\n",
        "}\n",
        "df3 = pd.DataFrame(data3)\n",
        "\n",
        "print(\"DataFrame 1:\")\n",
        "print(df1)\n",
        "\n",
        "print(\"\\nDataFrame 2:\")\n",
        "print(df2)\n",
        "\n",
        "print(\"\\nDataFrame 3:\")\n",
        "print(df3)\n",
        "\n",
        "# Merge df1 and df2 on 'ID'\n",
        "merged_df = pd.merge(df1, df2, on='ID')\n",
        "print(\"\\nMerged DataFrame (on 'ID'):\")\n",
        "print(merged_df)\n",
        "\n",
        "# Concatenate df1 and df2 along rows\n",
        "concatenated_df_rows = pd.concat([df1, df2], ignore_index=True)\n"
      ],
      "metadata": {
        "colab": {
          "base_uri": "https://localhost:8080/"
        },
        "id": "ov-2WK6w0kJJ",
        "outputId": "310f10be-0ef9-480e-f0ca-feeffea7f6d1"
      },
      "execution_count": 9,
      "outputs": [
        {
          "output_type": "stream",
          "name": "stdout",
          "text": [
            "DataFrame 1:\n",
            "   ID     Name  Age\n",
            "0   1    Alice   24\n",
            "1   2      Bob   27\n",
            "2   3  Charlie   22\n",
            "3   4    David   32\n",
            "\n",
            "DataFrame 2:\n",
            "   ID         City  Salary\n",
            "0   3      Chicago   45000\n",
            "1   4      Houston   60000\n",
            "2   5      Phoenix   75000\n",
            "3   6  Los Angeles   80000\n",
            "\n",
            "DataFrame 3:\n",
            "   ID Department\n",
            "0   1         HR\n",
            "1   2    Finance\n",
            "2   3         IT\n",
            "3   4         HR\n",
            "\n",
            "Merged DataFrame (on 'ID'):\n",
            "   ID     Name  Age     City  Salary\n",
            "0   3  Charlie   22  Chicago   45000\n",
            "1   4    David   32  Houston   60000\n"
          ]
        }
      ]
    },
    {
      "cell_type": "markdown",
      "source": [
        "##Reshaping##"
      ],
      "metadata": {
        "id": "W1RMGlio0-G5"
      }
    },
    {
      "cell_type": "code",
      "source": [
        "# df.melt(): This function is used to unpivot a DataFrame from wide format to long format. It turns columns into rows, making the data longer and narrower.\n",
        "# df.pivot(index, columns, values): This function reshapes data (produced by melt or another long format) back into a wide format. It converts rows into columns.\n",
        "# df.stack(): This function stacks the prescribed level(s) from columns to index. It converts a wide DataFrame to a long one.\n",
        "# df.unstack(): This function unstacks the prescribed level(s) from index to columns. It converts a long DataFrame to a wide one.\n",
        "import pandas as pd\n",
        "\n",
        "data = {\n",
        "    'ID': [1, 2, 3],\n",
        "    'Name': ['Alice', 'Bob', 'Charlie'],\n",
        "    'Math': [90, 80, 70],\n",
        "    'Science': [85, 75, 65]\n",
        "}\n",
        "\n",
        "df = pd.DataFrame(data)\n",
        "print(df)\n",
        "melted_df = pd.melt(df, id_vars=['ID', 'Name'], value_vars=['Math', 'Science'], var_name='Subject', value_name='Score')\n",
        "print(melted_df)\n",
        "pivoted_df = melted_df.pivot(index='ID', columns='Subject', values='Score').reset_index()\n",
        "print(pivoted_df)\n",
        "stacked_df = df.set_index(['ID', 'Name']).stack().reset_index(name='Score')\n",
        "stacked_df.columns = ['ID', 'Name', 'Subject', 'Score']\n",
        "print(stacked_df)\n",
        "stacked_df = df.set_index(['ID', 'Name']).stack().reset_index(name='Score')\n",
        "stacked_df.columns = ['ID', 'Name', 'Subject', 'Score']\n",
        "unstacked_df = stacked_df.set_index(['ID', 'Name', 'Subject']).unstack().reset_index()\n",
        "unstacked_df.columns = ['ID', 'Name', 'Math', 'Science']\n",
        "print(unstacked_df)\n"
      ],
      "metadata": {
        "colab": {
          "base_uri": "https://localhost:8080/"
        },
        "id": "qyNYRQrp1IKw",
        "outputId": "7cada4d9-5730-44a7-875a-b0af6889c8f5"
      },
      "execution_count": 10,
      "outputs": [
        {
          "output_type": "stream",
          "name": "stdout",
          "text": [
            "   ID     Name  Math  Science\n",
            "0   1    Alice    90       85\n",
            "1   2      Bob    80       75\n",
            "2   3  Charlie    70       65\n",
            "   ID     Name  Subject  Score\n",
            "0   1    Alice     Math     90\n",
            "1   2      Bob     Math     80\n",
            "2   3  Charlie     Math     70\n",
            "3   1    Alice  Science     85\n",
            "4   2      Bob  Science     75\n",
            "5   3  Charlie  Science     65\n",
            "Subject  ID  Math  Science\n",
            "0         1    90       85\n",
            "1         2    80       75\n",
            "2         3    70       65\n",
            "   ID     Name  Subject  Score\n",
            "0   1    Alice     Math     90\n",
            "1   1    Alice  Science     85\n",
            "2   2      Bob     Math     80\n",
            "3   2      Bob  Science     75\n",
            "4   3  Charlie     Math     70\n",
            "5   3  Charlie  Science     65\n",
            "   ID     Name  Math  Science\n",
            "0   1    Alice    90       85\n",
            "1   2      Bob    80       75\n",
            "2   3  Charlie    70       65\n"
          ]
        }
      ]
    },
    {
      "cell_type": "markdown",
      "source": [
        "##Input and Output##"
      ],
      "metadata": {
        "id": "XkoEVqnq1Ii4"
      }
    },
    {
      "cell_type": "code",
      "source": [
        "\n",
        "# df.to_csv(filepath): Write DataFrame to a CSV file.\n",
        "# df.to_excel(filepath): Write DataFrame to an Excel file.\n",
        "# df.to_json(filepath): Write DataFrame to a JSON file.\n",
        "# df.to_sql(table_name, con): Write records stored in a DataFrame to a SQL database."
      ],
      "metadata": {
        "id": "esQYtNSe1Ldp"
      },
      "execution_count": null,
      "outputs": []
    }
  ]
}